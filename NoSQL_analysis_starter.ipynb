{
 "cells": [
  {
   "cell_type": "markdown",
   "id": "9a57c4c6",
   "metadata": {},
   "source": [
    "# Eat Safe, Love"
   ]
  },
  {
   "cell_type": "markdown",
   "id": "064ef857",
   "metadata": {},
   "source": [
    "## Notebook Set Up"
   ]
  },
  {
   "cell_type": "code",
   "execution_count": 13,
   "id": "3ecdd008",
   "metadata": {},
   "outputs": [],
   "source": [
    "# Import dependencies\n",
    "import json\n",
    "from pymongo import MongoClient\n",
    "import pandas as pd\n",
    "from pprint import pprint\n"
   ]
  },
  {
   "cell_type": "code",
   "execution_count": 14,
   "id": "59390c4a",
   "metadata": {},
   "outputs": [],
   "source": [
    "# Create an instance of MongoClient\n",
    "mongo = MongoClient(port=27017)"
   ]
  },
  {
   "cell_type": "code",
   "execution_count": 15,
   "id": "71e373c1",
   "metadata": {},
   "outputs": [],
   "source": [
    "# assign the uk_food database to a variable name\n",
    "uk_food_db=mongo['uk_food']"
   ]
  },
  {
   "cell_type": "code",
   "execution_count": 16,
   "id": "18ab463c",
   "metadata": {},
   "outputs": [
    {
     "name": "stdout",
     "output_type": "stream",
     "text": [
      "{'_id': ObjectId('63d5bc46d106e534a27fc35b'), 'FHRSID': 254719, 'ChangesByServerID': 0, 'LocalAuthorityBusinessID': 'PI/000069980', 'BusinessName': 'Refreshment Kiosk', 'BusinessType': 'Restaurant/Cafe/Canteen', 'BusinessTypeID': 1, 'AddressLine1': 'The Bay', 'AddressLine2': 'St Margarets Bay', 'AddressLine3': 'Kent', 'AddressLine4': '', 'PostCode': 'CT15 6DY', 'Phone': '', 'RatingValue': '5', 'RatingKey': 'fhrs_5_en-gb', 'RatingDate': '2022-03-24T00:00:00', 'LocalAuthorityCode': '182', 'LocalAuthorityName': 'Dover', 'LocalAuthorityWebSite': 'http://www.dover.gov.uk/', 'LocalAuthorityEmailAddress': 'publicprotection@dover.gov.uk', 'scores': {'Hygiene': 0, 'Structural': 5, 'ConfidenceInManagement': 5}, 'SchemeType': 'FHRS', 'geocode': {'longitude': '1.387974', 'latitude': '51.152225'}, 'RightToReply': '', 'Distance': 4587.347174863443, 'NewRatingPending': False, 'meta': {'dataSource': None, 'extractDate': '0001-01-01T00:00:00', 'itemCount': 0, 'returncode': None, 'totalCount': 0, 'totalPages': 0, 'pageSize': 0, 'pageNumber': 0}, 'links': [{'rel': 'self', 'href': 'https://api.ratings.food.gov.uk/establishments/254719'}]}\n"
     ]
    }
   ],
   "source": [
    "# review the collections in our database\n",
    "print(uk_food_db.establishments.find_one())"
   ]
  },
  {
   "cell_type": "code",
   "execution_count": 17,
   "id": "11c9f11b",
   "metadata": {},
   "outputs": [],
   "source": [
    "# assign the collection to a variable\n",
    "establishments = uk_food_db['establishments']"
   ]
  },
  {
   "cell_type": "markdown",
   "id": "d5671434",
   "metadata": {},
   "source": [
    "## Part 3: Exploratory Analysis\n",
    "Unless otherwise stated, for each question: \n",
    "* Use `count_documents` to display the number of documents contained in the result.\n",
    "* Display the first document in the results using `pprint`.\n",
    "* Convert the result to a Pandas DataFrame, print the number of rows in the DataFrame, and display the first 10 rows."
   ]
  },
  {
   "cell_type": "markdown",
   "id": "314bd884",
   "metadata": {},
   "source": [
    "### 1. Which establishments have a hygiene score equal to 20?"
   ]
  },
  {
   "cell_type": "code",
   "execution_count": 18,
   "id": "c2da7648",
   "metadata": {},
   "outputs": [
    {
     "name": "stdout",
     "output_type": "stream",
     "text": [
      "Number of documents: 0\n",
      "{'AddressLine1': '5-6 Southfields Road',\n",
      " 'AddressLine2': 'Eastbourne',\n",
      " 'AddressLine3': 'East Sussex',\n",
      " 'AddressLine4': '',\n",
      " 'BusinessName': 'The Chase Rest Home',\n",
      " 'BusinessType': 'Caring Premises',\n",
      " 'BusinessTypeID': 5,\n",
      " 'ChangesByServerID': 0,\n",
      " 'Distance': 4613.888288172291,\n",
      " 'FHRSID': 110681,\n",
      " 'LocalAuthorityBusinessID': '4029',\n",
      " 'LocalAuthorityCode': '102',\n",
      " 'LocalAuthorityEmailAddress': 'Customerfirst@eastbourne.gov.uk',\n",
      " 'LocalAuthorityName': 'Eastbourne',\n",
      " 'LocalAuthorityWebSite': 'http://www.eastbourne.gov.uk/foodratings',\n",
      " 'NewRatingPending': False,\n",
      " 'Phone': '',\n",
      " 'PostCode': 'BN21 1BU',\n",
      " 'RatingDate': '2021-09-23T00:00:00',\n",
      " 'RatingKey': 'fhrs_0_en-gb',\n",
      " 'RatingValue': '0',\n",
      " 'RightToReply': '',\n",
      " 'SchemeType': 'FHRS',\n",
      " '_id': ObjectId('63d5bc48d106e534a27fe174'),\n",
      " 'geocode': {'latitude': '50.769705', 'longitude': '0.27694'},\n",
      " 'links': [{'href': 'https://api.ratings.food.gov.uk/establishments/110681',\n",
      "            'rel': 'self'}],\n",
      " 'meta': {'dataSource': None,\n",
      "          'extractDate': '0001-01-01T00:00:00',\n",
      "          'itemCount': 0,\n",
      "          'pageNumber': 0,\n",
      "          'pageSize': 0,\n",
      "          'returncode': None,\n",
      "          'totalCount': 0,\n",
      "          'totalPages': 0},\n",
      " 'scores': {'ConfidenceInManagement': 20, 'Hygiene': 20, 'Structural': 20}}\n"
     ]
    }
   ],
   "source": [
    "# Find the establishments with a hygiene score of 20\n",
    "query_20 = {\"scores.Hygeine\" : 20}\n",
    "results_20 = establishments.find(query_20)\n",
    "# Use count_documents to display the number of documents in the result\n",
    "count_20 = establishments.count_documents(query_20)\n",
    "print(\"Number of documents:\", count_20)\n",
    "# Display the first document in the results using pprint\n",
    "first_result_20 = establishments.find_one({\"scores.Hygiene\" : 20})\n",
    "pprint(first_result_20)"
   ]
  },
  {
   "cell_type": "code",
   "execution_count": 19,
   "id": "a6e5cece",
   "metadata": {},
   "outputs": [
    {
     "name": "stdout",
     "output_type": "stream",
     "text": [
      "0\n"
     ]
    },
    {
     "data": {
      "text/html": [
       "<div>\n",
       "<style scoped>\n",
       "    .dataframe tbody tr th:only-of-type {\n",
       "        vertical-align: middle;\n",
       "    }\n",
       "\n",
       "    .dataframe tbody tr th {\n",
       "        vertical-align: top;\n",
       "    }\n",
       "\n",
       "    .dataframe thead th {\n",
       "        text-align: right;\n",
       "    }\n",
       "</style>\n",
       "<table border=\"1\" class=\"dataframe\">\n",
       "  <thead>\n",
       "    <tr style=\"text-align: right;\">\n",
       "      <th></th>\n",
       "    </tr>\n",
       "  </thead>\n",
       "  <tbody>\n",
       "  </tbody>\n",
       "</table>\n",
       "</div>"
      ],
      "text/plain": [
       "Empty DataFrame\n",
       "Columns: []\n",
       "Index: []"
      ]
     },
     "execution_count": 19,
     "metadata": {},
     "output_type": "execute_result"
    }
   ],
   "source": [
    "# Convert the result to a Pandas DataFrame\n",
    "result_df = pd.DataFrame(results_20)\n",
    "\n",
    "# Display the number of rows in the DataFrame\n",
    "print(result_df.shape[0])\n",
    "# Display the first 10 rows of the DataFrame\n",
    "result_df.head(10)"
   ]
  },
  {
   "cell_type": "markdown",
   "id": "0ef4395a",
   "metadata": {},
   "source": [
    "### 2. Which establishments in London have a `RatingValue` greater than or equal to 4?"
   ]
  },
  {
   "cell_type": "code",
   "execution_count": 20,
   "id": "93c63829",
   "metadata": {},
   "outputs": [
    {
     "name": "stdout",
     "output_type": "stream",
     "text": [
      "Number of documents: 0\n",
      "None\n"
     ]
    }
   ],
   "source": [
    "# Find the establishments with London as the Local Authority and has a RatingValue greater than or equal to 4.\n",
    "query = {\"$and\" : [{\"LocalAuthorityName\" : {\"$regex\" : \"london\"}},{\"RatingValue\" : {\"$gt\" : 4}}]}\n",
    "london_results = establishments.find(query)\n",
    "# Use count_documents to display the number of documents in the result\n",
    "london_count = establishments.count_documents(query)\n",
    "print(\"Number of documents:\", london_count)\n",
    "# Display the first document in the results using pprint\n",
    "london_first = establishments.find_one(query)\n",
    "pprint(london_first)"
   ]
  },
  {
   "cell_type": "code",
   "execution_count": 21,
   "id": "07e24ccb",
   "metadata": {},
   "outputs": [
    {
     "name": "stdout",
     "output_type": "stream",
     "text": [
      "0\n"
     ]
    },
    {
     "data": {
      "text/html": [
       "<div>\n",
       "<style scoped>\n",
       "    .dataframe tbody tr th:only-of-type {\n",
       "        vertical-align: middle;\n",
       "    }\n",
       "\n",
       "    .dataframe tbody tr th {\n",
       "        vertical-align: top;\n",
       "    }\n",
       "\n",
       "    .dataframe thead th {\n",
       "        text-align: right;\n",
       "    }\n",
       "</style>\n",
       "<table border=\"1\" class=\"dataframe\">\n",
       "  <thead>\n",
       "    <tr style=\"text-align: right;\">\n",
       "      <th></th>\n",
       "    </tr>\n",
       "  </thead>\n",
       "  <tbody>\n",
       "  </tbody>\n",
       "</table>\n",
       "</div>"
      ],
      "text/plain": [
       "Empty DataFrame\n",
       "Columns: []\n",
       "Index: []"
      ]
     },
     "execution_count": 21,
     "metadata": {},
     "output_type": "execute_result"
    }
   ],
   "source": [
    "# Convert the result to a Pandas DataFrame\n",
    "london_df = pd.DataFrame(london_results)\n",
    "# Display the number of rows in the DataFrame\n",
    "print(london_df.shape[0])\n",
    "# Display the first 10 rows of the DataFrame\n",
    "london_df.head(10)"
   ]
  },
  {
   "cell_type": "code",
   "execution_count": null,
   "id": "8df2db70",
   "metadata": {},
   "outputs": [],
   "source": []
  },
  {
   "cell_type": "markdown",
   "id": "4e570caf",
   "metadata": {},
   "source": [
    "### 3. What are the top 5 establishments with a `RatingValue` rating value of '5', sorted by lowest hygiene score, nearest to the new restaurant added, \"Penang Flavours\"?"
   ]
  },
  {
   "cell_type": "code",
   "execution_count": null,
   "id": "7f599f3d",
   "metadata": {},
   "outputs": [],
   "source": [
    "# Search within 0.01 degree on either side of the latitude and longitude.\n",
    "# Rating value must equal 5\n",
    "# Sort by hygiene score\n",
    "\n",
    "degree_search = 0.01\n",
    "latitude = \n",
    "longitude = \n",
    "\n",
    "query = \n",
    "sort =  \n",
    "\n",
    "# Print the results\n"
   ]
  },
  {
   "cell_type": "code",
   "execution_count": null,
   "id": "a6ad16f7",
   "metadata": {},
   "outputs": [],
   "source": [
    "# Convert result to Pandas DataFrame\n"
   ]
  },
  {
   "cell_type": "markdown",
   "id": "67281254",
   "metadata": {},
   "source": [
    "### 4. How many establishments in each Local Authority area have a hygiene score of 0?"
   ]
  },
  {
   "cell_type": "code",
   "execution_count": null,
   "id": "4eeb227e",
   "metadata": {},
   "outputs": [],
   "source": [
    "# Create a pipeline that: \n",
    "# 1. Matches establishments with a hygiene score of 0\n",
    "# 2. Groups the matches by Local Authority\n",
    "# 3. Sorts the matches from highest to lowest\n",
    "\n",
    "# Print the number of documents in the result\n",
    "\n",
    "# Print the first 10 results\n"
   ]
  },
  {
   "cell_type": "code",
   "execution_count": null,
   "id": "d8aab364",
   "metadata": {},
   "outputs": [],
   "source": [
    "# Convert the result to a Pandas DataFrame\n",
    "\n",
    "# Display the number of rows in the DataFrame\n",
    "\n",
    "# Display the first 10 rows of the DataFrame\n"
   ]
  }
 ],
 "metadata": {
  "kernelspec": {
   "display_name": "base",
   "language": "python",
   "name": "python3"
  },
  "language_info": {
   "codemirror_mode": {
    "name": "ipython",
    "version": 3
   },
   "file_extension": ".py",
   "mimetype": "text/x-python",
   "name": "python",
   "nbconvert_exporter": "python",
   "pygments_lexer": "ipython3",
   "version": "3.9.13"
  },
  "vscode": {
   "interpreter": {
    "hash": "9b08ffd0a4475e719e3865c535ebba1e2f191e898d23e3e553b37b22453f838b"
   }
  }
 },
 "nbformat": 4,
 "nbformat_minor": 5
}
